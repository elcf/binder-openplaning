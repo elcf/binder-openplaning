{
 "cells": [
  {
   "cell_type": "markdown",
   "id": "deeda721-0b57-4479-8499-3c0715c4badc",
   "metadata": {},
   "source": [
    "## OpenPlaning Examples\n",
    "These are examples that you can find in the FAST '21 paper. It uses the [OpenPlaning](https://github.com/elcf/python-openplaning) package.\n",
    "\n",
    "### Note\n",
    "If you launched this notebook via Binder, please note that while this is a fully functioning Jupyter Notebook and you are able to change any variable or function, **none of the changes you make will be saved**. If you want to keep the modifications you made, please download the modified files to your own computer by clicking File > Download as > Notebook (.ipynb)."
   ]
  },
  {
   "cell_type": "code",
   "execution_count": null,
   "id": "dccb74ff-a860-414c-a7ac-7586de6e29ec",
   "metadata": {},
   "outputs": [],
   "source": [
    "from openplaning import PlaningBoat"
   ]
  },
  {
   "cell_type": "markdown",
   "id": "e5b0da85-cb7b-43fe-9cec-a1828a4c0259",
   "metadata": {},
   "source": [
    "### Example 1 (Savitsky '76)"
   ]
  },
  {
   "cell_type": "code",
   "execution_count": null,
   "id": "enhanced-lightning",
   "metadata": {},
   "outputs": [],
   "source": [
    "#Vessel particulars\n",
    "speed = 13.07 #m/s\n",
    "weight = 827400 #N\n",
    "beam = 7.315 #m\n",
    "length = 24.38 #m, vessel LOA\n",
    "lcg = 10.67 #m, long. center of gravity\n",
    "vcg = beam/7 #m, vert. center of gravity\n",
    "r_g = 0.25*length #m, radius of gyration\n",
    "beta = 15 #deg, deadrise\n",
    "\n",
    "#Propulsion\n",
    "epsilon = 0 #deg, thrust angle w.r.t. keel\n",
    "vT = vcg #m, thrust vertical distance\n",
    "lT = lcg #m, thrust horizontal distance\n",
    "\n",
    "#Trim tab particulars\n",
    "sigma = 1.0 #flap span-hull beam ratio\n",
    "delta = 5 #deg, flap deflection\n",
    "Lf = 0.3048 #m, flap chord\n",
    "\n",
    "#Seaway\n",
    "H_sig = 1.402 #m, significant wave height\n",
    "\n",
    "#Create boat object\n",
    "boat_1 = PlaningBoat(speed, weight, beam, lcg, vcg, r_g, beta, epsilon, vT, lT, length, H_sig, Lf=Lf, sigma=sigma, delta=delta, wetted_lengths_type=3)\n",
    "\n",
    "#Calculates the equilibrium trim and heave,\n",
    "#and updates boat.tau and boat.z_wl\n",
    "boat_1.get_steady_trim()\n",
    "\n",
    "boat_1.print_description()"
   ]
  },
  {
   "cell_type": "markdown",
   "id": "9965f1f2-dde3-45fc-b2ef-fa52c2398208",
   "metadata": {},
   "source": [
    "### Case Study\n",
    "\n",
    "The variables are the lcg (constrained to 0.3L -- 0.5L), beta (constrained to 10deg -- 30 deg), and delta (constrained to 0deg -- 15deg). The particulars are similar to those of the RB-M"
   ]
  },
  {
   "cell_type": "code",
   "execution_count": null,
   "id": "69822a23-c787-4efb-8f05-3d7d98b4fc86",
   "metadata": {},
   "outputs": [],
   "source": [
    "# Particulars\n",
    "speed = 15 #m/s\n",
    "weight = 162000 #N\n",
    "beam = 4.5 #m\n",
    "length = 14 #m\n",
    "lcg = 0.4*length #m (estimate, 0.3-0.5*length)\n",
    "vcg = beam/7 #m\n",
    "r_g = 0.25*length #m\n",
    "beta = 15 #deg (estimate) (10-30deg)\n",
    "\n",
    "# Propulsion\n",
    "epsilon = 5 #deg \n",
    "vT = -0.6 #m\n",
    "lT = 0.7 #m\n",
    "\n",
    "# Seaway\n",
    "H_sig = 1 #m, significant wave height (H_sig/b = 0.2-0.7)\n",
    "\n",
    "# Trim tab\n",
    "Lf = 0.305 #m, flap chord\n",
    "sigma = 0.474 #flap span / vessel beam ratio\n",
    "delta = 1 #deg, flap deflection (estimate) (0-15deg)\n",
    "\n",
    "#Create boat object\n",
    "boat_2 = PlaningBoat(speed, weight, beam, lcg, vcg, r_g, beta, epsilon, vT, lT, length, H_sig, Lf=Lf, sigma=sigma, delta=delta)\n",
    "\n",
    "#Calculates the equilibrium trim and heave for the initial vessel\n",
    "boat_2.get_steady_trim()\n",
    "\n",
    "boat_2.print_description()"
   ]
  },
  {
   "cell_type": "markdown",
   "id": "a7b153bf-122a-4750-a17e-48e87e1fc0c2",
   "metadata": {},
   "source": [
    "#### pymoo Problem Definition\n",
    "\n",
    "For details on setting up the optimization problem, visit https://pymoo.org/getting_started.html"
   ]
  },
  {
   "cell_type": "code",
   "execution_count": null,
   "id": "22c58cd7-133f-4689-9a78-e3bea5816154",
   "metadata": {},
   "outputs": [],
   "source": [
    "import numpy as np\n",
    "from pymoo.model.problem import Problem\n",
    "\n",
    "from pymoo.algorithms.nsga2 import NSGA2\n",
    "from pymoo.util.termination.f_tol import MultiObjectiveSpaceToleranceTermination #https://pymoo.org/interface/termination.html\n",
    "from pymoo.optimize import minimize\n",
    "import logging\n",
    "import time\n",
    "\n",
    "from pymoo.visualization.scatter import Scatter"
   ]
  },
  {
   "cell_type": "code",
   "execution_count": null,
   "id": "44451fcd-a0ef-4aae-8570-773beb3ad4a9",
   "metadata": {},
   "outputs": [],
   "source": [
    "#Normalization values for obj functions\n",
    "fl = np.array([29500, 2.5])\n",
    "fu = np.array([33000, 4])\n",
    "#fl = np.array([0, 0]) #No normalization\n",
    "#fu = np.array([1, 1])\n",
    "\n",
    "#Trim angle constraints\n",
    "tau_l = 2\n",
    "tau_u = 8\n",
    "\n",
    "class boatOptProblem(Problem):\n",
    "\n",
    "    def __init__(self, boat_object):\n",
    "        \n",
    "        self.boat = boat_object\n",
    "        \n",
    "        super().__init__(n_var=3,\n",
    "                         n_obj=2,\n",
    "                         n_constr=4,\n",
    "                         xl=np.array([4.2,10,0]),\n",
    "                         xu=np.array([7,30,15]),\n",
    "                         elementwise_evaluation=True)\n",
    "        \n",
    "    def _evaluate(self, x, out, *args, **kwards):\n",
    "        \n",
    "        #Optimization variables\n",
    "        [self.boat.lcg, self.boat.beta, self.boat.delta] = x\n",
    "        \n",
    "        #Attempt to get steady trim, and fail inequality constraint if not successful\n",
    "        g4 = 0\n",
    "        try:\n",
    "            self.boat.get_steady_trim()\n",
    "        except RuntimeError:\n",
    "            g4 = 1\n",
    "            \n",
    "        #Run the function needed for seakeeping\n",
    "        self.boat.get_seaway_behavior()\n",
    "        \n",
    "        #Objective functions and normalization\n",
    "        f1 = ((self.boat.net_force[0] + self.boat.R_AW) - fl[0])/(fu[0]-fl[0])\n",
    "        f2 = (self.boat.avg_impact_acc[1] - fl[1])/(fu[1]-fl[1])\n",
    "        \n",
    "        #Inequality constraints (g(x)<=0)\n",
    "        g1 = self.boat.tau - tau_u\n",
    "        g2 = tau_l - self.boat.tau\n",
    "        g3 = self.boat.L_K - self.boat.length*.9\n",
    "        \n",
    "        out['F'] = [f1, f2]\n",
    "        out['G'] = [g1, g2, g3, g4]\n",
    "    \n",
    "#Create opt problem object\n",
    "boat_problem = boatOptProblem(boat_2)"
   ]
  },
  {
   "cell_type": "markdown",
   "id": "8b96dfbf-e84c-4ee9-a0e6-7da3ef7f1616",
   "metadata": {},
   "source": [
    "##### Algorithm selection and run optimization"
   ]
  },
  {
   "cell_type": "code",
   "execution_count": null,
   "id": "ac156f71-2f8d-4f8c-a1f9-b0a92d95d07b",
   "metadata": {},
   "outputs": [],
   "source": [
    "algorithm = NSGA2(pop_size=200)\n",
    "termination = MultiObjectiveSpaceToleranceTermination(tol=0.0025,\n",
    "                                                      n_last=20,\n",
    "                                                      nth_gen=5,\n",
    "                                                      n_max_gen=500,\n",
    "                                                      n_max_evals=None)\n",
    "\n",
    "#Run optimization\n",
    "logging.captureWarnings(True) #Silence warnings\n",
    "start_time = time.time()\n",
    "result = minimize(boat_problem,\n",
    "                algorithm,\n",
    "                termination,\n",
    "                seed=1,\n",
    "                verbose=True)\n",
    "elapsed_time = time.time() - start_time\n",
    "logging.captureWarnings(False)\n",
    "print(f\"The elapsed wall time was {elapsed_time:.0f} s\")"
   ]
  },
  {
   "cell_type": "markdown",
   "id": "22063309-9b47-4728-9e31-19f7306e6af6",
   "metadata": {},
   "source": [
    "#### Visualization of results"
   ]
  },
  {
   "cell_type": "code",
   "execution_count": null,
   "id": "94601c08-7994-407d-8d83-df3623e6e69f",
   "metadata": {},
   "outputs": [],
   "source": [
    "import pandas as pd\n",
    "import matplotlib.pyplot as plt\n",
    "\n",
    "#Creating a dataframe for convenient data manipulation\n",
    "df = pd.DataFrame(result.X, columns = ['LCG (m)', 'Deadrise (deg)', 'Trim Tab Angle (deg)'])\n",
    "df[['Tot. Seaway Drag/Weight','Average Bow Acc. (g)']] = pd.DataFrame((result.F*(fu - fl) + fl)/[weight, 1])\n",
    "df[['tau - '+str(tau_u), str(tau_l)+' - tau','L_K - 0.9*length', 'Steady Trim Fail']] = pd.DataFrame(result.G)\n",
    "df['Calm Water Trim (deg)'] =  df['tau - '+str(tau_u)] + tau_u\n",
    "df"
   ]
  },
  {
   "cell_type": "code",
   "execution_count": null,
   "id": "09790d9a-759b-4791-8d60-7d527a103e49",
   "metadata": {},
   "outputs": [],
   "source": [
    "#Plot font size\n",
    "FONT_SIZE = 11.5\n",
    "plt.rc('font', size=FONT_SIZE) # controls default text sizes\n",
    "plt.rc('axes', titlesize=FONT_SIZE) # fontsize of the axes title\n",
    "plt.rc('axes', labelsize=FONT_SIZE) # fontsize of the x and y labels\n",
    "plt.rc('xtick', labelsize=FONT_SIZE) # fontsize of the tick labels\n",
    "plt.rc('ytick', labelsize=FONT_SIZE) # fontsize of the tick labels\n",
    "plt.rc('legend', fontsize=FONT_SIZE) # legend fontsize\n",
    "plt.rc('figure', titlesize=FONT_SIZE) # fontsize of the figure title"
   ]
  },
  {
   "cell_type": "code",
   "execution_count": null,
   "id": "561ada2c-58d2-4483-ae81-e59d08f0245e",
   "metadata": {},
   "outputs": [],
   "source": [
    "fig_1, axs_1 = plt.subplots(figsize=[5,5])\n",
    "df.plot.scatter('Tot. Seaway Drag/Weight', 'Average Bow Acc. (g)', sharex=False, ax=axs_1);\n",
    "axs_1.grid(True)\n",
    "# fig_1.savefig('pareto.png')"
   ]
  },
  {
   "cell_type": "code",
   "execution_count": null,
   "id": "7c16ceda-dbbe-42ac-92ef-45e987c71bf2",
   "metadata": {},
   "outputs": [],
   "source": [
    "fig_2, axs_2 = plt.subplots(3, 1, figsize=[5,10])\n",
    "df.plot.scatter('Tot. Seaway Drag/Weight', 'Average Bow Acc. (g)', c='LCG (m)', colormap='viridis', sharex=True, ax=axs_2[0]);\n",
    "df.plot.scatter('Tot. Seaway Drag/Weight', 'Average Bow Acc. (g)', c='Deadrise (deg)', colormap='plasma', ax=axs_2[1]);\n",
    "df.plot.scatter('Tot. Seaway Drag/Weight', 'Average Bow Acc. (g)', c='Trim Tab Angle (deg)', colormap='cividis', ax=axs_2[2]);\n",
    "axs_2[0].set_ylabel(None);\n",
    "axs_2[2].set_ylabel(None);\n",
    "fig_2.tight_layout()\n",
    "# fig_2.savefig('pareto_vars.png')"
   ]
  },
  {
   "cell_type": "code",
   "execution_count": null,
   "id": "aa4e4402-bf87-4ad8-9cdc-6ec9e0e230b8",
   "metadata": {},
   "outputs": [],
   "source": [
    "fig_3, axs_3 = plt.subplots(3, 1, figsize=[5,12])\n",
    "color_values = 'Tot. Seaway Drag/Weight'\n",
    "df.plot.scatter('LCG (m)', 'Deadrise (deg)', c=color_values, colormap='magma', sharex=False, ax=axs_3[0], colorbar=False);\n",
    "df.plot.scatter('LCG (m)', 'Trim Tab Angle (deg)', c=color_values, colormap='magma', ax=axs_3[1], colorbar=False);\n",
    "df.plot.scatter('Deadrise (deg)', 'Trim Tab Angle (deg)', c=color_values, colormap='magma', ax=axs_3[2], colorbar=False);\n",
    "im = plt.gca().get_children()[0]\n",
    "cbar = fig_3.colorbar(im, ax=axs_3.ravel().tolist(), aspect=60)\n",
    "cbar.set_label(color_values)\n",
    "# fig_3.savefig('vars.png')"
   ]
  },
  {
   "cell_type": "code",
   "execution_count": null,
   "id": "f6f4d7e7-9162-4649-9aab-b96e3424272e",
   "metadata": {},
   "outputs": [],
   "source": []
  }
 ],
 "metadata": {
  "kernelspec": {
   "display_name": "Python 3",
   "language": "python",
   "name": "python3"
  },
  "language_info": {
   "codemirror_mode": {
    "name": "ipython",
    "version": 3
   },
   "file_extension": ".py",
   "mimetype": "text/x-python",
   "name": "python",
   "nbconvert_exporter": "python",
   "pygments_lexer": "ipython3",
   "version": "3.9.4"
  }
 },
 "nbformat": 4,
 "nbformat_minor": 5
}
